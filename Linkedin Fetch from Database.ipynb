{
 "cells": [
  {
   "cell_type": "code",
   "execution_count": 1,
   "metadata": {},
   "outputs": [],
   "source": [
    "import pandas as pd\n",
    "data=pd.read_csv('CompanyDatabase.csv')"
   ]
  },
  {
   "cell_type": "code",
   "execution_count": 2,
   "metadata": {},
   "outputs": [
    {
     "name": "stderr",
     "output_type": "stream",
     "text": [
      "<ipython-input-2-a386edfad2b9>:1: UserWarning: DataFrame columns are not unique, some columns will be omitted.\n",
      "  datadict = data.set_index('Name').T.to_dict('list')\n"
     ]
    }
   ],
   "source": [
    "datadict = data.set_index('Name').T.to_dict('list')"
   ]
  },
  {
   "cell_type": "code",
   "execution_count": 3,
   "metadata": {},
   "outputs": [
    {
     "name": "stdout",
     "output_type": "stream",
     "text": [
      "173\n"
     ]
    }
   ],
   "source": [
    "CompanyNames=pd.read_csv('newfetch.csv',encoding ='latin1')\n",
    "CompanyNames = CompanyNames['Company Name'].tolist()\n",
    "CompanyInfo= [None] * len(CompanyNames)\n",
    "print(len(CompanyInfo))"
   ]
  },
  {
   "cell_type": "code",
   "execution_count": 4,
   "metadata": {},
   "outputs": [],
   "source": [
    "for i in range(len(CompanyNames)):\n",
    "    if CompanyNames[i] in datadict:\n",
    "        CompanyInfo[i] = datadict[CompanyNames[i]]\n",
    "    else:\n",
    "        CompanyInfo[i] = ['','','','','','']"
   ]
  },
  {
   "cell_type": "code",
   "execution_count": 5,
   "metadata": {},
   "outputs": [],
   "source": [
    "CompanyInfodf = pd.DataFrame(CompanyInfo,columns =['Url','description','Employees','Domain','Industries','Specialities']) "
   ]
  },
  {
   "cell_type": "code",
   "execution_count": 6,
   "metadata": {},
   "outputs": [],
   "source": [
    "CompanyInfodf.to_csv('CompanyInfoLatest.csv', header=True, index=False)"
   ]
  },
  {
   "cell_type": "code",
   "execution_count": null,
   "metadata": {},
   "outputs": [],
   "source": []
  }
 ],
 "metadata": {
  "kernelspec": {
   "display_name": "Python 3",
   "language": "python",
   "name": "python3"
  },
  "language_info": {
   "codemirror_mode": {
    "name": "ipython",
    "version": 3
   },
   "file_extension": ".py",
   "mimetype": "text/x-python",
   "name": "python",
   "nbconvert_exporter": "python",
   "pygments_lexer": "ipython3",
   "version": "3.8.5"
  }
 },
 "nbformat": 4,
 "nbformat_minor": 4
}
